{
 "cells": [
  {
   "cell_type": "code",
   "execution_count": 39,
   "metadata": {},
   "outputs": [
    {
     "data": {
      "image/png": "[encoded data removed]",
      "text/plain": [
       "<Figure size 432x288 with 1 Axes>"
      ]
     },
     "metadata": {
      "needs_background": "light"
     },
     "output_type": "display_data"
    },
    {
     "data": {
      "text/html": [
       "<div>\n",
       "<style scoped>\n",
       "    .dataframe tbody tr th:only-of-type {\n",
       "        vertical-align: middle;\n",
       "    }\n",
       "\n",
       "    .dataframe tbody tr th {\n",
       "        vertical-align: top;\n",
       "    }\n",
       "\n",
       "    .dataframe thead th {\n",
       "        text-align: right;\n",
       "    }\n",
       "</style>\n",
       "<table border=\"1\" class=\"dataframe\">\n",
       "  <thead>\n",
       "    <tr style=\"text-align: right;\">\n",
       "      <th></th>\n",
       "      <th>schedule_date</th>\n",
       "      <th>schedule_season</th>\n",
       "      <th>schedule_week</th>\n",
       "      <th>schedule_playoff</th>\n",
       "      <th>team_home</th>\n",
       "      <th>score_home</th>\n",
       "      <th>score_away</th>\n",
       "      <th>team_away</th>\n",
       "      <th>team_favorite_id</th>\n",
       "      <th>spread_favorite</th>\n",
       "      <th>over_under_line</th>\n",
       "      <th>stadium</th>\n",
       "      <th>stadium_neutral</th>\n",
       "      <th>weather_temperature</th>\n",
       "      <th>weather_wind_mph</th>\n",
       "      <th>weather_humidity</th>\n",
       "      <th>weather_detail</th>\n",
       "      <th>score_differential</th>\n",
       "    </tr>\n",
       "  </thead>\n",
       "  <tbody>\n",
       "    <tr>\n",
       "      <th>0</th>\n",
       "      <td>9/2/1966</td>\n",
       "      <td>1966</td>\n",
       "      <td>1</td>\n",
       "      <td>False</td>\n",
       "      <td>Miami Dolphins</td>\n",
       "      <td>14.0</td>\n",
       "      <td>23.0</td>\n",
       "      <td>Oakland Raiders</td>\n",
       "      <td>NaN</td>\n",
       "      <td>NaN</td>\n",
       "      <td>NaN</td>\n",
       "      <td>Orange Bowl</td>\n",
       "      <td>False</td>\n",
       "      <td>83.0</td>\n",
       "      <td>6.0</td>\n",
       "      <td>71</td>\n",
       "      <td>NaN</td>\n",
       "      <td>-9.0</td>\n",
       "    </tr>\n",
       "    <tr>\n",
       "      <th>1</th>\n",
       "      <td>9/3/1966</td>\n",
       "      <td>1966</td>\n",
       "      <td>1</td>\n",
       "      <td>False</td>\n",
       "      <td>Houston Oilers</td>\n",
       "      <td>45.0</td>\n",
       "      <td>7.0</td>\n",
       "      <td>Denver Broncos</td>\n",
       "      <td>NaN</td>\n",
       "      <td>NaN</td>\n",
       "      <td>NaN</td>\n",
       "      <td>Rice Stadium</td>\n",
       "      <td>False</td>\n",
       "      <td>81.0</td>\n",
       "      <td>7.0</td>\n",
       "      <td>70</td>\n",
       "      <td>NaN</td>\n",
       "      <td>38.0</td>\n",
       "    </tr>\n",
       "    <tr>\n",
       "      <th>2</th>\n",
       "      <td>9/4/1966</td>\n",
       "      <td>1966</td>\n",
       "      <td>1</td>\n",
       "      <td>False</td>\n",
       "      <td>San Diego Chargers</td>\n",
       "      <td>27.0</td>\n",
       "      <td>7.0</td>\n",
       "      <td>Buffalo Bills</td>\n",
       "      <td>NaN</td>\n",
       "      <td>NaN</td>\n",
       "      <td>NaN</td>\n",
       "      <td>Balboa Stadium</td>\n",
       "      <td>False</td>\n",
       "      <td>70.0</td>\n",
       "      <td>7.0</td>\n",
       "      <td>82</td>\n",
       "      <td>NaN</td>\n",
       "      <td>20.0</td>\n",
       "    </tr>\n",
       "    <tr>\n",
       "      <th>3</th>\n",
       "      <td>9/9/1966</td>\n",
       "      <td>1966</td>\n",
       "      <td>2</td>\n",
       "      <td>False</td>\n",
       "      <td>Miami Dolphins</td>\n",
       "      <td>14.0</td>\n",
       "      <td>19.0</td>\n",
       "      <td>New York Jets</td>\n",
       "      <td>NaN</td>\n",
       "      <td>NaN</td>\n",
       "      <td>NaN</td>\n",
       "      <td>Orange Bowl</td>\n",
       "      <td>False</td>\n",
       "      <td>82.0</td>\n",
       "      <td>11.0</td>\n",
       "      <td>78</td>\n",
       "      <td>NaN</td>\n",
       "      <td>-5.0</td>\n",
       "    </tr>\n",
       "    <tr>\n",
       "      <th>4</th>\n",
       "      <td>9/10/1966</td>\n",
       "      <td>1966</td>\n",
       "      <td>1</td>\n",
       "      <td>False</td>\n",
       "      <td>Green Bay Packers</td>\n",
       "      <td>24.0</td>\n",
       "      <td>3.0</td>\n",
       "      <td>Baltimore Colts</td>\n",
       "      <td>NaN</td>\n",
       "      <td>NaN</td>\n",
       "      <td>NaN</td>\n",
       "      <td>Lambeau Field</td>\n",
       "      <td>False</td>\n",
       "      <td>64.0</td>\n",
       "      <td>8.0</td>\n",
       "      <td>62</td>\n",
       "      <td>NaN</td>\n",
       "      <td>21.0</td>\n",
       "    </tr>\n",
       "    <tr>\n",
       "      <th>...</th>\n",
       "      <td>...</td>\n",
       "      <td>...</td>\n",
       "      <td>...</td>\n",
       "      <td>...</td>\n",
       "      <td>...</td>\n",
       "      <td>...</td>\n",
       "      <td>...</td>\n",
       "      <td>...</td>\n",
       "      <td>...</td>\n",
       "      <td>...</td>\n",
       "      <td>...</td>\n",
       "      <td>...</td>\n",
       "      <td>...</td>\n",
       "      <td>...</td>\n",
       "      <td>...</td>\n",
       "      <td>...</td>\n",
       "      <td>...</td>\n",
       "      <td>...</td>\n",
       "    </tr>\n",
       "    <tr>\n",
       "      <th>12929</th>\n",
       "      <td>1/3/2021</td>\n",
       "      <td>2020</td>\n",
       "      <td>17</td>\n",
       "      <td>False</td>\n",
       "      <td>New England Patriots</td>\n",
       "      <td>NaN</td>\n",
       "      <td>NaN</td>\n",
       "      <td>New York Jets</td>\n",
       "      <td>NaN</td>\n",
       "      <td>NaN</td>\n",
       "      <td>NaN</td>\n",
       "      <td>Gillette Stadium</td>\n",
       "      <td>False</td>\n",
       "      <td>NaN</td>\n",
       "      <td>NaN</td>\n",
       "      <td>NaN</td>\n",
       "      <td>NaN</td>\n",
       "      <td>NaN</td>\n",
       "    </tr>\n",
       "    <tr>\n",
       "      <th>12930</th>\n",
       "      <td>1/3/2021</td>\n",
       "      <td>2020</td>\n",
       "      <td>17</td>\n",
       "      <td>False</td>\n",
       "      <td>New York Giants</td>\n",
       "      <td>NaN</td>\n",
       "      <td>NaN</td>\n",
       "      <td>Dallas Cowboys</td>\n",
       "      <td>NaN</td>\n",
       "      <td>NaN</td>\n",
       "      <td>NaN</td>\n",
       "      <td>MetLife Stadium</td>\n",
       "      <td>False</td>\n",
       "      <td>NaN</td>\n",
       "      <td>NaN</td>\n",
       "      <td>NaN</td>\n",
       "      <td>NaN</td>\n",
       "      <td>NaN</td>\n",
       "    </tr>\n",
       "    <tr>\n",
       "      <th>12931</th>\n",
       "      <td>1/3/2021</td>\n",
       "      <td>2020</td>\n",
       "      <td>17</td>\n",
       "      <td>False</td>\n",
       "      <td>Philadelphia Eagles</td>\n",
       "      <td>NaN</td>\n",
       "      <td>NaN</td>\n",
       "      <td>Washington Football Team</td>\n",
       "      <td>NaN</td>\n",
       "      <td>NaN</td>\n",
       "      <td>NaN</td>\n",
       "      <td>Lincoln Financial Field</td>\n",
       "      <td>False</td>\n",
       "      <td>NaN</td>\n",
       "      <td>NaN</td>\n",
       "      <td>NaN</td>\n",
       "      <td>NaN</td>\n",
       "      <td>NaN</td>\n",
       "    </tr>\n",
       "    <tr>\n",
       "      <th>12932</th>\n",
       "      <td>1/3/2021</td>\n",
       "      <td>2020</td>\n",
       "      <td>17</td>\n",
       "      <td>False</td>\n",
       "      <td>San Francisco 49ers</td>\n",
       "      <td>NaN</td>\n",
       "      <td>NaN</td>\n",
       "      <td>Seattle Seahawks</td>\n",
       "      <td>NaN</td>\n",
       "      <td>NaN</td>\n",
       "      <td>NaN</td>\n",
       "      <td>Levi's Stadium</td>\n",
       "      <td>False</td>\n",
       "      <td>NaN</td>\n",
       "      <td>NaN</td>\n",
       "      <td>NaN</td>\n",
       "      <td>NaN</td>\n",
       "      <td>NaN</td>\n",
       "    </tr>\n",
       "    <tr>\n",
       "      <th>12933</th>\n",
       "      <td>1/3/2021</td>\n",
       "      <td>2020</td>\n",
       "      <td>17</td>\n",
       "      <td>False</td>\n",
       "      <td>Tampa Bay Buccaneers</td>\n",
       "      <td>NaN</td>\n",
       "      <td>NaN</td>\n",
       "      <td>Atlanta Falcons</td>\n",
       "      <td>NaN</td>\n",
       "      <td>NaN</td>\n",
       "      <td>NaN</td>\n",
       "      <td>Raymond James Stadium</td>\n",
       "      <td>False</td>\n",
       "      <td>NaN</td>\n",
       "      <td>NaN</td>\n",
       "      <td>NaN</td>\n",
       "      <td>NaN</td>\n",
       "      <td>NaN</td>\n",
       "    </tr>\n",
       "  </tbody>\n",
       "</table>\n",
       "<p>12934 rows × 18 columns</p>\n",
       "</div>"
      ],
      "text/plain": [
       "      schedule_date  schedule_season schedule_week  schedule_playoff  \\\n",
       "0          9/2/1966             1966             1             False   \n",
       "1          9/3/1966             1966             1             False   \n",
       "2          9/4/1966             1966             1             False   \n",
       "3          9/9/1966             1966             2             False   \n",
       "4         9/10/1966             1966             1             False   \n",
       "...             ...              ...           ...               ...   \n",
       "12929      1/3/2021             2020            17             False   \n",
       "12930      1/3/2021             2020            17             False   \n",
       "12931      1/3/2021             2020            17             False   \n",
       "12932      1/3/2021             2020            17             False   \n",
       "12933      1/3/2021             2020            17             False   \n",
       "\n",
       "                  team_home  score_home  score_away                 team_away  \\\n",
       "0            Miami Dolphins        14.0        23.0           Oakland Raiders   \n",
       "1            Houston Oilers        45.0         7.0            Denver Broncos   \n",
       "2        San Diego Chargers        27.0         7.0             Buffalo Bills   \n",
       "3            Miami Dolphins        14.0        19.0             New York Jets   \n",
       "4         Green Bay Packers        24.0         3.0           Baltimore Colts   \n",
       "...                     ...         ...         ...                       ...   \n",
       "12929  New England Patriots         NaN         NaN             New York Jets   \n",
       "12930       New York Giants         NaN         NaN            Dallas Cowboys   \n",
       "12931   Philadelphia Eagles         NaN         NaN  Washington Football Team   \n",
       "12932   San Francisco 49ers         NaN         NaN          Seattle Seahawks   \n",
       "12933  Tampa Bay Buccaneers         NaN         NaN           Atlanta Falcons   \n",
       "\n",
       "      team_favorite_id  spread_favorite over_under_line  \\\n",
       "0                  NaN              NaN             NaN   \n",
       "1                  NaN              NaN             NaN   \n",
       "2                  NaN              NaN             NaN   \n",
       "3                  NaN              NaN             NaN   \n",
       "4                  NaN              NaN             NaN   \n",
       "...                ...              ...             ...   \n",
       "12929              NaN              NaN             NaN   \n",
       "12930              NaN              NaN             NaN   \n",
       "12931              NaN              NaN             NaN   \n",
       "12932              NaN              NaN             NaN   \n",
       "12933              NaN              NaN             NaN   \n",
       "\n",
       "                       stadium  stadium_neutral  weather_temperature  \\\n",
       "0                  Orange Bowl            False                 83.0   \n",
       "1                 Rice Stadium            False                 81.0   \n",
       "2               Balboa Stadium            False                 70.0   \n",
       "3                  Orange Bowl            False                 82.0   \n",
       "4                Lambeau Field            False                 64.0   \n",
       "...                        ...              ...                  ...   \n",
       "12929         Gillette Stadium            False                  NaN   \n",
       "12930          MetLife Stadium            False                  NaN   \n",
       "12931  Lincoln Financial Field            False                  NaN   \n",
       "12932           Levi's Stadium            False                  NaN   \n",
       "12933    Raymond James Stadium            False                  NaN   \n",
       "\n",
       "       weather_wind_mph weather_humidity weather_detail  score_differential  \n",
       "0                   6.0               71            NaN                -9.0  \n",
       "1                   7.0               70            NaN                38.0  \n",
       "2                   7.0               82            NaN                20.0  \n",
       "3                  11.0               78            NaN                -5.0  \n",
       "4                   8.0               62            NaN                21.0  \n",
       "...                 ...              ...            ...                 ...  \n",
       "12929               NaN              NaN            NaN                 NaN  \n",
       "12930               NaN              NaN            NaN                 NaN  \n",
       "12931               NaN              NaN            NaN                 NaN  \n",
       "12932               NaN              NaN            NaN                 NaN  \n",
       "12933               NaN              NaN            NaN                 NaN  \n",
       "\n",
       "[12934 rows x 18 columns]"
      ]
     },
     "execution_count": 39,
     "metadata": {},
     "output_type": "execute_result"
    }
   ],
   "source": [
    "import matplotlib.pyplot as plt\n",
    "import pandas as pd\n",
    "import numpy as np\n",
    "df = pd.read_csv('spreadspoke_scores.csv')\n",
    "df['score_differential'] = df['score_home']-df['score_away']\n",
    "plt.hist(df['score_differential'], bins = np.linspace(-50,50,101))\n",
    "plt.title('NFL Season Point Differential of All Games')\n",
    "plt.xlabel('Point differential (Home Team Score - Away Team Score)')\n",
    "plt.ylabel('Occurences')\n",
    "plt.show()\n",
    "df"
   ]
  },
  {
   "cell_type": "code",
   "execution_count": 40,
   "metadata": {},
   "outputs": [
    {
     "data": {
      "image/png": "[encoded data removed]",
      "text/plain": [
       "<Figure size 432x288 with 1 Axes>"
      ]
     },
     "metadata": {
      "needs_background": "light"
     },
     "output_type": "display_data"
    }
   ],
   "source": [
    "df = df.iloc[11877:12144]\n",
    "plt.hist(df['score_differential'], bins = np.linspace(-45,45,91))\n",
    "plt.title('2017 NFL Season Point Differential')\n",
    "plt.xlabel('Point differential (Home Team Score - Away Team Score)')\n",
    "plt.ylabel('Occurences')\n",
    "plt.show()"
   ]
  },
  {
   "cell_type": "code",
   "execution_count": 41,
   "metadata": {
    "scrolled": true
   },
   "outputs": [
    {
     "name": "stderr",
     "output_type": "stream",
     "text": [
      "C:\\Users\\user\\anaconda3\\lib\\site-packages\\pandas\\core\\indexing.py:1765: SettingWithCopyWarning: \n",
      "A value is trying to be set on a copy of a slice from a DataFrame.\n",
      "Try using .loc[row_indexer,col_indexer] = value instead\n",
      "\n",
      "See the caveats in the documentation: https://pandas.pydata.org/pandas-docs/stable/user_guide/indexing.html#returning-a-view-versus-a-copy\n",
      "  isetter(loc, value)\n"
     ]
    }
   ],
   "source": [
    "df.loc[df['team_favorite_id'] == 'ARI', 'team_favorite_id'] = 'Arizona Cardinals'\n",
    "df.loc[df['team_favorite_id'] == 'ATL', 'team_favorite_id'] = 'Atlanta Falcons'\n",
    "df.loc[df['team_favorite_id'] == 'BAL', 'team_favorite_id'] = 'Baltimore Ravens'\n",
    "df.loc[df['team_favorite_id'] == 'BUF', 'team_favorite_id'] = 'Buffalo Bills'\n",
    "df.loc[df['team_favorite_id'] == 'CAR', 'team_favorite_id'] = 'Carolina Panthers'\n",
    "df.loc[df['team_favorite_id'] == 'CHI', 'team_favorite_id'] = 'Chicago Bears'\n",
    "df.loc[df['team_favorite_id'] == 'CIN', 'team_favorite_id'] = 'Cincinati Bengals'\n",
    "df.loc[df['team_favorite_id'] == 'CLE', 'team_favorite_id'] = 'Cleveland Browns'\n",
    "df.loc[df['team_favorite_id'] == 'DAL', 'team_favorite_id'] = 'Dallas Cowboys'\n",
    "df.loc[df['team_favorite_id'] == 'DEN', 'team_favorite_id'] = 'Denver Broncos'\n",
    "df.loc[df['team_favorite_id'] == 'DET', 'team_favorite_id'] = 'Detroit Lions'\n",
    "df.loc[df['team_favorite_id'] == 'GB', 'team_favorite_id'] = 'Green Bay Packers'\n",
    "df.loc[df['team_favorite_id'] == 'HOU', 'team_favorite_id'] = 'Houston Texans'\n",
    "df.loc[df['team_favorite_id'] == 'IND', 'team_favorite_id'] = 'Indianapolis Colts'\n",
    "df.loc[df['team_favorite_id'] == 'JAX', 'team_favorite_id'] = 'Jacksonville Jaguars'\n",
    "df.loc[df['team_favorite_id'] == 'KC', 'team_favorite_id'] = 'Kansas City Chiefs'\n",
    "df.loc[df['team_favorite_id'] == 'MIA', 'team_favorite_id'] = 'Miami Dolphins'\n",
    "df.loc[df['team_favorite_id'] == 'MIN', 'team_favorite_id'] = 'Minnesota Vikings'\n",
    "df.loc[df['team_favorite_id'] == 'NE', 'team_favorite_id'] = 'New England Patriots'\n",
    "df.loc[df['team_favorite_id'] == 'NO', 'team_favorite_id'] = 'New Orleans Saints'\n",
    "df.loc[df['team_favorite_id'] == 'NYG', 'team_favorite_id'] = 'New York Giants'\n",
    "df.loc[df['team_favorite_id'] == 'NYJ', 'team_favorite_id'] = 'New York Jets'\n",
    "df.loc[df['team_favorite_id'] == 'OAK', 'team_favorite_id'] = 'Oakland Raiders'\n",
    "df.loc[df['team_favorite_id'] == 'PHI', 'team_favorite_id'] = 'Philadelphia Eagles'\n",
    "df.loc[df['team_favorite_id'] == 'PIT', 'team_favorite_id'] = 'Pittsburgh Steelers'\n",
    "df.loc[df['team_favorite_id'] == 'LAC', 'team_favorite_id'] = 'Los Angeles Chargers'\n",
    "df.loc[df['team_favorite_id'] == 'SF', 'team_favorite_id'] = 'San Francisco 49ers'\n",
    "df.loc[df['team_favorite_id'] == 'SEA', 'team_favorite_id'] = 'Seattle Seahawks'\n",
    "df.loc[df['team_favorite_id'] == 'LAR', 'team_favorite_id'] = 'Los Angeles Rams'\n",
    "df.loc[df['team_favorite_id'] == 'TB', 'team_favorite_id'] = 'Tampa Bay Buccaneers'\n",
    "df.loc[df['team_favorite_id'] == 'TEN', 'team_favorite_id'] = 'Tennessee Titans'\n",
    "df.loc[df['team_favorite_id'] == 'WAS', 'team_favorite_id'] = 'Washington Redskins'"
   ]
  },
  {
   "cell_type": "code",
   "execution_count": 42,
   "metadata": {},
   "outputs": [
    {
     "name": "stderr",
     "output_type": "stream",
     "text": [
      "C:\\Users\\user\\anaconda3\\lib\\site-packages\\pandas\\core\\indexing.py:1745: SettingWithCopyWarning: \n",
      "A value is trying to be set on a copy of a slice from a DataFrame.\n",
      "Try using .loc[row_indexer,col_indexer] = value instead\n",
      "\n",
      "See the caveats in the documentation: https://pandas.pydata.org/pandas-docs/stable/user_guide/indexing.html#returning-a-view-versus-a-copy\n",
      "  isetter(ilocs[0], value)\n"
     ]
    },
    {
     "data": {
      "text/plain": [
       "Text(0, 0.5, 'Actual Results')"
      ]
     },
     "execution_count": 42,
     "metadata": {},
     "output_type": "execute_result"
    },
    {
     "data": {
      "image/png": "[encoded data removed]",
      "text/plain": [
       "<Figure size 432x288 with 1 Axes>"
      ]
     },
     "metadata": {
      "needs_background": "light"
     },
     "output_type": "display_data"
    }
   ],
   "source": [
    "df.loc[df['team_home'] == df['team_favorite_id'], 'spread_favorite'] *= -1\n",
    "x = df['spread_favorite']\n",
    "y = df['score_differential']\n",
    "plt.scatter(x, y)\n",
    "plt.xlabel('Spread Prediction')\n",
    "plt.ylabel('Actual Results')"
   ]
  },
  {
   "cell_type": "code",
   "execution_count": 43,
   "metadata": {},
   "outputs": [
    {
     "name": "stderr",
     "output_type": "stream",
     "text": [
      "<ipython-input-43-2a190c178858>:3: FutureWarning: Support for multi-dimensional indexing (e.g. `obj[:, None]`) is deprecated and will be removed in a future version.  Convert to a numpy array before indexing instead.\n",
      "  model.fit(x[:, np.newaxis], y)\n"
     ]
    },
    {
     "data": {
      "text/plain": [
       "Text(0, 0.5, 'Actual Results')"
      ]
     },
     "execution_count": 43,
     "metadata": {},
     "output_type": "execute_result"
    },
    {
     "data": {
      "image/png": "[encoded data removed]",
      "text/plain": [
       "<Figure size 432x288 with 1 Axes>"
      ]
     },
     "metadata": {
      "needs_background": "light"
     },
     "output_type": "display_data"
    }
   ],
   "source": [
    "from sklearn.linear_model import LinearRegression\n",
    "model = LinearRegression(fit_intercept = True)\n",
    "model.fit(x[:, np.newaxis], y)\n",
    "xfit = np.linspace(-20, 20)\n",
    "yfit = model.predict(xfit[:, np.newaxis])\n",
    "plt.scatter(x,y)\n",
    "plt.plot(xfit, yfit)\n",
    "plt.xlabel('Spread Prediction')\n",
    "plt.ylabel('Actual Results')"
   ]
  },
  {
   "cell_type": "code",
   "execution_count": 44,
   "metadata": {
    "scrolled": true
   },
   "outputs": [
    {
     "name": "stdout",
     "output_type": "stream",
     "text": [
      "Model Slope:  0.9017277770541494\n",
      "Model intercept:  1.1438692999490836\n"
     ]
    },
    {
     "name": "stderr",
     "output_type": "stream",
     "text": [
      "<ipython-input-44-84ee76576599>:3: FutureWarning: Support for multi-dimensional indexing (e.g. `obj[:, None]`) is deprecated and will be removed in a future version.  Convert to a numpy array before indexing instead.\n",
      "  model.score(x[:, np.newaxis], y)\n"
     ]
    },
    {
     "data": {
      "text/plain": [
       "0.14665119838196683"
      ]
     },
     "execution_count": 44,
     "metadata": {},
     "output_type": "execute_result"
    }
   ],
   "source": [
    "print(\"Model Slope: \", model.coef_[0])\n",
    "print(\"Model intercept: \", model.intercept_)\n",
    "model.score(x[:, np.newaxis], y)"
   ]
  },
  {
   "cell_type": "code",
   "execution_count": 45,
   "metadata": {
    "scrolled": true
   },
   "outputs": [
    {
     "data": {
      "image/png": "[encoded data removed]",
      "text/plain": [
       "<Figure size 432x288 with 1 Axes>"
      ]
     },
     "metadata": {
      "needs_background": "light"
     },
     "output_type": "display_data"
    }
   ],
   "source": [
    "K = 3\n",
    "Centroids = (df.sample(n=K))\n",
    "plt.scatter(x,y,c='black')\n",
    "plt.scatter(Centroids[\"spread_favorite\"],Centroids[\"score_differential\"],c='red')\n",
    "plt.xlabel('Spread Prediction')\n",
    "plt.ylabel('Actual Results')\n",
    "plt.show()"
   ]
  },
  {
   "cell_type": "code",
   "execution_count": 46,
   "metadata": {},
   "outputs": [
    {
     "name": "stderr",
     "output_type": "stream",
     "text": [
      "<ipython-input-46-d472dd2d2fc1>:14: SettingWithCopyWarning: \n",
      "A value is trying to be set on a copy of a slice from a DataFrame.\n",
      "Try using .loc[row_indexer,col_indexer] = value instead\n",
      "\n",
      "See the caveats in the documentation: https://pandas.pydata.org/pandas-docs/stable/user_guide/indexing.html#returning-a-view-versus-a-copy\n",
      "  df[i]=ED\n",
      "<ipython-input-46-d472dd2d2fc1>:26: SettingWithCopyWarning: \n",
      "A value is trying to be set on a copy of a slice from a DataFrame.\n",
      "Try using .loc[row_indexer,col_indexer] = value instead\n",
      "\n",
      "See the caveats in the documentation: https://pandas.pydata.org/pandas-docs/stable/user_guide/indexing.html#returning-a-view-versus-a-copy\n",
      "  df[\"Cluster\"]=C\n"
     ]
    },
    {
     "name": "stdout",
     "output_type": "stream",
     "text": [
      "-6.550399962356485\n",
      "-2.124560888785741\n",
      "-1.0020628762623192\n",
      "0.7727663708762633\n",
      "-0.016471207548361955\n",
      "0.32113021297057687\n",
      "0.22520092828229554\n",
      "0.49845346476101193\n",
      "0.0\n"
     ]
    }
   ],
   "source": [
    "diff = 1\n",
    "j=0\n",
    "\n",
    "while(diff!=0):\n",
    "    XD=df\n",
    "    i=1\n",
    "    for index1,row_c in Centroids.iterrows():\n",
    "        ED=[]\n",
    "        for index2,row_d in XD.iterrows():\n",
    "            d1=(row_c[\"spread_favorite\"]-row_d[\"spread_favorite\"])**2\n",
    "            d2=(row_c[\"score_differential\"]-row_d[\"score_differential\"])**2\n",
    "            d=np.sqrt(d1+d2)\n",
    "            ED.append(d)\n",
    "        df[i]=ED\n",
    "        i=i+1\n",
    "\n",
    "    C=[]\n",
    "    for index,row in df.iterrows():\n",
    "        min_dist=row[1]\n",
    "        pos=1\n",
    "        for i in range(K):\n",
    "            if row[i+1] < min_dist:\n",
    "                min_dist = row[i+1]\n",
    "                pos=i+1\n",
    "        C.append(pos)\n",
    "    df[\"Cluster\"]=C\n",
    "    Centroids_new = df.groupby([\"Cluster\"]).mean()[[\"spread_favorite\",\"score_differential\"]]\n",
    "    if j == 0:\n",
    "        diff=1\n",
    "        j=j+1\n",
    "    else:\n",
    "        diff = (Centroids_new['score_differential'] - Centroids['score_differential']).sum() + (Centroids_new['spread_favorite'] - Centroids['spread_favorite']).sum()\n",
    "        print(diff.sum())\n",
    "    Centroids = df.groupby([\"Cluster\"]).mean()[[\"score_differential\",\"spread_favorite\"]]"
   ]
  },
  {
   "cell_type": "code",
   "execution_count": 47,
   "metadata": {},
   "outputs": [
    {
     "data": {
      "image/png": "[encoded data removed]",
      "text/plain": [
       "<Figure size 432x288 with 1 Axes>"
      ]
     },
     "metadata": {
      "needs_background": "light"
     },
     "output_type": "display_data"
    }
   ],
   "source": [
    "color=['blue','green','red']\n",
    "for k in range(K):\n",
    "    data=df[df[\"Cluster\"]==k+1]\n",
    "    plt.scatter(data[\"spread_favorite\"],data[\"score_differential\"],c=color[k])\n",
    "plt.scatter(Centroids[\"spread_favorite\"],Centroids[\"score_differential\"],c='black')\n",
    "plt.xlabel('Spread Prediction')\n",
    "plt.ylabel('Actual Results')\n",
    "plt.show()"
   ]
  },
  {
   "cell_type": "code",
   "execution_count": 19,
   "metadata": {},
   "outputs": [
    {
     "data": {
      "text/plain": [
       "<AxesSubplot:>"
      ]
     },
     "execution_count": 19,
     "metadata": {},
     "output_type": "execute_result"
    },
    {
     "data": {
      "image/png": "[encoded data removed]",
      "text/plain": [
       "<Figure size 432x288 with 2 Axes>"
      ]
     },
     "metadata": {
      "needs_background": "light"
     },
     "output_type": "display_data"
    }
   ],
   "source": [
    "import pandas as pd\n",
    "import numpy as np\n",
    "import seaborn as sns\n",
    "teamstats = pd.read_csv('teamstats.csv')\n",
    "teamstats1 = teamstats.iloc[:,3:16]\n",
    "teamstats1\n",
    "corr = teamstats1.corr()\n",
    "sns.heatmap(corr)"
   ]
  },
  {
   "cell_type": "code",
   "execution_count": 27,
   "metadata": {},
   "outputs": [
    {
     "data": {
      "text/plain": [
       "<AxesSubplot:>"
      ]
     },
     "execution_count": 27,
     "metadata": {},
     "output_type": "execute_result"
    },
    {
     "data": {
      "image/png": "[encoded data removed]",
      "text/plain": [
       "<Figure size 432x288 with 2 Axes>"
      ]
     },
     "metadata": {
      "needs_background": "light"
     },
     "output_type": "display_data"
    }
   ],
   "source": [
    "teamstats\n",
    "cols = list(teamstats.columns)\n",
    "teamstats2 = teamstats[cols[0:3]+cols[4:30]+[cols[3]]]\n",
    "teamstats2 = teamstats2.iloc[:, 15: 30]\n",
    "corr2 = teamstats2.corr()\n",
    "sns.heatmap(corr2)\n"
   ]
  },
  {
   "cell_type": "code",
   "execution_count": null,
   "metadata": {},
   "outputs": [],
   "source": []
  }
 ],
 "metadata": {
  "kernelspec": {
   "display_name": "Python 3",
   "language": "python",
   "name": "python3"
  },
  "language_info": {
   "codemirror_mode": {
    "name": "ipython",
    "version": 3
   },
   "file_extension": ".py",
   "mimetype": "text/x-python",
   "name": "python",
   "nbconvert_exporter": "python",
   "pygments_lexer": "ipython3",
   "version": "3.8.5"
  }
 },
 "nbformat": 4,
 "nbformat_minor": 4
}
