{
 "cells": [
  {
   "cell_type": "code",
   "execution_count": 112,
   "metadata": {},
   "outputs": [
    {
     "name": "stdout",
     "output_type": "stream",
     "text": [
      "    Rk              Player   Tm Age  Pos   G  GS   QBrec  Cmp  Att  ...  \\\n",
      "0    1      Justin Herbert  LAC  22   QB  13  13   4-9-0  353  531  ...   \n",
      "1    2  Ben Roethlisberger  PIT  38   QB  13  13  11-2-0  345  521  ...   \n",
      "2    3           Matt Ryan  ATL  35   QB  13  13   4-9-0  317  498  ...   \n",
      "3    4           Tom Brady  TAM  43   QB  13  13   8-5-0  322  497  ...   \n",
      "4    5     Patrick Mahomes  KAN  25   QB  13  13  12-1-0  340  497  ...   \n",
      "..  ..                 ...  ...  ..  ...  ..  ..     ...  ...  ...  ...   \n",
      "95  93        Logan Thomas  WAS  29   TE  13  12     NaN    1    1  ...   \n",
      "96  94      Tommy Townsend  KAN  24    p  13   0     NaN    1    1  ...   \n",
      "97  95  Cedrick Wilson Jr.  DAL  25  NaN  13   0     NaN    1    1  ...   \n",
      "98  96      Logan Woodside  TEN  25  NaN   4   0     NaN    1    1  ...   \n",
      "99  97       Isaiah Wright  WAS  23   wr  11   6     NaN    0    1  ...   \n",
      "\n",
      "      Y/G   Rate    QBR  Sk Yds.1   NY/A  ANY/A  Sk%  4QC  GWD  \n",
      "0   290.8   96.3   68.3  27   171   6.47   6.63  4.8    0    1  \n",
      "1   253.2   94.9   63.7  11    97   6.01   6.33  2.1    3    3  \n",
      "2   281.5   89.3   63.1  33   203   6.51   6.29  6.2  NaN  NaN  \n",
      "3   268.9   96.3   70.1  16   103   6.61   6.82  3.1    2    2  \n",
      "4   323.7  112.3   84.3  18   125   7.93   8.77  3.5    2    2  \n",
      "..    ...    ...    ...  ..   ...    ...    ...  ...  ...  ...  \n",
      "95    2.2  118.7   98.7   0     0  28.00  28.00  0.0  NaN  NaN  \n",
      "96    1.0  118.7   13.0   0     0  13.00  13.00  0.0  NaN  NaN  \n",
      "97    0.8  152.1  100.0   0     0  11.00  31.00  0.0  NaN  NaN  \n",
      "98    1.8   95.8   99.5   0     0   7.00   7.00  0.0  NaN  NaN  \n",
      "99    0.0   39.6    3.8   0     0   0.00   0.00  0.0  NaN  NaN  \n",
      "\n",
      "[100 rows x 31 columns]\n"
     ]
    }
   ],
   "source": [
    "import pandas as pd\n",
    "url = 'https://www.pro-football-reference.com/years/2020/passing.htm'\n",
    "df = pd.read_html(url)[0]\n",
    "print(df)"
   ]
  },
  {
   "cell_type": "code",
   "execution_count": 130,
   "metadata": {},
   "outputs": [
    {
     "name": "stdout",
     "output_type": "stream",
     "text": [
      "['Justin Herbert ', 'Ben Roethlisberger', 'Matt Ryan', 'Tom Brady ', 'Patrick Mahomes ', 'Jared Goff', 'Josh Allen ', 'Russell Wilson ', 'Matthew Stafford', 'Kyler Murray ', 'Philip Rivers', 'Aaron Rodgers ', 'Derek Carr', 'Carson Wentz ', 'Deshaun Watson ', 'Teddy Bridgewater', 'Joe Burrow ', 'Ryan Tannehill', 'Kirk Cousins ', 'Daniel Jones ', 'Baker Mayfield', 'Drew Lock', 'Nick Foles', 'Lamar Jackson', 'Cam Newton', 'Drew Brees', 'Gardner Minshew II', 'Nick Mullens ', 'Sam Darnold ', 'Ryan Fitzpatrick', 'Andy Dalton', 'Dak Prescott ', 'Alex Smith', 'Mitchell Trubisky ', 'Tua Tagovailoa ', 'Dwayne Haskins ', 'Jimmy Garoppolo', 'Joe Flacco', 'Taysom Hill', 'Jake Luton', 'Mike Glennon', 'Kyle Allen', 'Brandon Allen', 'Jeff Driskel', 'Jalen Hurts ', 'Ben DiNucci', 'Phillip Walker ', 'Brett Rypien', 'C.J. Beathard', 'Garrett Gilbert', 'Colt McCoy', 'Jarrett Stidham', 'Tyrod Taylor ', 'Marcus Mariota', 'Brian Hoyer ', 'Chase Daniel', 'Ryan Finley', 'Robert Griffin III', 'Jameis Winston', 'Case Keenum', 'Trace McSorley', 'Kendall Hinton', 'Jacoby Brissett', 'Chad Henne', 'Matt Barkley', 'Tyler Bray', 'Nathan Peterman ', 'Geno Smith', 'Jarvis Landry ', 'Mason Rudolph', 'Tyler Boyd', 'Julian Edelman', 'Russell Gage', 'Travis Kelce', 'Golden Tate', 'Jamal Agnew', 'Keenan Allen ', 'Cole Beasley', 'Odell Beckham Jr.', 'Lynn Bowden Jr.', 'Joseph Charlton', 'Randall Cobb', 'Blaine Gabbert', 'Chris Jones', 'Zay Jones ', 'Brett Kern', 'Sam Koch', 'Isaiah McKenzie', 'Jakobi Meyers', 'D.J. Moore', 'Zach Pascal', 'Easton Stick', 'Logan Thomas', 'Tommy Townsend', 'Cedrick Wilson Jr.', 'Logan Woodside ', 'Isaiah Wright']\n"
     ]
    }
   ],
   "source": [
    "from bs4 import BeautifulSoup\n",
    "import requests\n",
    "\n",
    "source = requests.get('https://www.pro-football-reference.com/years/2020/passing.htm').text\n",
    "soup = BeautifulSoup(source, 'lxml')\n",
    "passing = soup.find('table')\n",
    "body = passing.find('tbody')\n",
    "# print(body.prettify())\n",
    "# for teams in body.find_all(\"td\", {\"data-stat\":\"team\"}):\n",
    "#      team = teams.a.text\n",
    "#      print(team)\n",
    "\n",
    "allnames = []\n",
    "for tr in body.find_all('tr'):\n",
    "    try:\n",
    "        name = tr.td.a.text\n",
    "        allnames.append(name)\n",
    "    except:\n",
    "        None\n",
    "print(allnames)\n"
   ]
  },
  {
   "cell_type": "code",
   "execution_count": 127,
   "metadata": {
    "scrolled": true
   },
   "outputs": [
    {
     "name": "stdout",
     "output_type": "stream",
     "text": [
      "[22.0, 38.0, 35.0, 43.0, 25.0, 26.0, 24.0, 32.0, 32.0, 23.0, 39.0, 37.0, 29.0, 28.0, 25.0, 28.0, 24.0, 32.0, 32.0, 23.0, 25.0, 24.0, 31.0, 23.0, 31.0, 41.0, 24.0, 25.0, 23.0, 38.0, 33.0, 27.0, 36.0, 26.0, 22.0, 23.0, 29.0, 35.0, 30.0, 24.0, 31.0, 24.0, 28.0, 27.0, 22.0, 24.0, 25.0, 24.0, 27.0, 29.0, 34.0, 24.0, 31.0, 27.0, 35.0, 34.0, 26.0, 30.0, 26.0, 32.0, 25.0, 23.0, 28.0, 35.0, 30.0, 29.0, 26.0, 30.0, 28.0, 25.0, 26.0, 34.0, 24.0, 31.0, 32.0, 25.0, 28.0, 31.0, 28.0, 23.0, 23.0, 30.0, 31.0, 31.0, 25.0, 34.0, 38.0, 25.0, 24.0, 23.0, 26.0, 25.0, 29.0, 24.0, 25.0, 25.0, 23.0]\n"
     ]
    }
   ],
   "source": [
    "ages = []\n",
    "for x in body.find_all(\"td\", {\"data-stat\":\"age\"}):\n",
    "    age = float(x.text)\n",
    "    ages.append(age)\n",
    "print(ages)"
   ]
  },
  {
   "cell_type": "code",
   "execution_count": 128,
   "metadata": {},
   "outputs": [
    {
     "name": "stdout",
     "output_type": "stream",
     "text": [
      "[96.3, 94.9, 89.3, 96.3, 112.3, 92.7, 103.3, 109.0, 94.8, 94.7, 97.4, 119.7, 102.0, 72.8, 109.4, 96.1, 89.8, 108.0, 102.7, 78.2, 96.6, 74.8, 81.0, 95.1, 78.9, 110.0, 93.4, 85.7, 67.3, 93.1, 83.9, 99.6, 79.0, 94.5, 95.2, 79.4, 92.4, 80.6, 98.7, 54.5, 75.4, 99.3, 83.7, 78.4, 82.5, 67.9, 70.8, 66.1, 86.7, 72.6, 68.0, 56.6, 75.4, 83.3, 59.4, 72.9, 22.8, 22.6, 83.5, 62.9, 97.9, 0.0, 39.6, 87.5, 70.4, 42.1, 72.9, 94.2, 158.3, 77.1, 77.1, 118.7, 135.4, 56.2, 81.2, 39.6, 39.6, 158.3, 118.7, 39.6, 118.7, 39.6, 39.6, 39.6, 118.7, 39.6, 118.7, 156.2, 158.3, 39.6, 39.6, 83.3, 118.7, 118.7, 152.1, 95.8, 39.6]\n"
     ]
    }
   ],
   "source": [
    "ratings=[]\n",
    "for x in body.find_all(\"td\", {\"data-stat\": \"pass_rating\"}):\n",
    "    rating = float(x.text)\n",
    "    ratings.append(rating)\n",
    "print(ratings)"
   ]
  },
  {
   "cell_type": "code",
   "execution_count": 126,
   "metadata": {},
   "outputs": [
    {
     "data": {
      "image/png": "[encoded data removed]",
      "text/plain": [
       "<Figure size 432x288 with 1 Axes>"
      ]
     },
     "metadata": {
      "needs_background": "light"
     },
     "output_type": "display_data"
    }
   ],
   "source": [
    "import pandas as pd\n",
    "from matplotlib import pyplot as plt\n",
    "plt.scatter(ages, ratings)\n",
    "plt.show()"
   ]
  },
  {
   "cell_type": "code",
   "execution_count": 155,
   "metadata": {},
   "outputs": [
    {
     "name": "stdout",
     "output_type": "stream",
     "text": [
      "<tr class=\"thead onecell\"><td class=\"right left\" colspan=\"13\" data-stat=\"onecell\"> AFC East</td></tr>\n"
     ]
    }
   ],
   "source": [
    "source2 = requests.get('https://www.pro-football-reference.com/years/2020/index.htm').text\n",
    "soup2 = BeautifulSoup(source2, 'lxml')\n",
    "#print(soup2.prettify())\n",
    "body2 = soup2.find('tbody')\n",
    "#print(body2.prettify())\n",
    "teamname = body2.\n",
    "print(teamname)\n",
    "wins = body2.find(\"td\", {\"data-stat\": \"wins\"}).text\n",
    "#print(wins)\n"
   ]
  },
  {
   "cell_type": "code",
   "execution_count": null,
   "metadata": {},
   "outputs": [],
   "source": []
  }
 ],
 "metadata": {
  "kernelspec": {
   "display_name": "Python 3",
   "language": "python",
   "name": "python3"
  },
  "language_info": {
   "codemirror_mode": {
    "name": "ipython",
    "version": 3
   },
   "file_extension": ".py",
   "mimetype": "text/x-python",
   "name": "python",
   "nbconvert_exporter": "python",
   "pygments_lexer": "ipython3",
   "version": "3.8.5"
  }
 },
 "nbformat": 4,
 "nbformat_minor": 4
}
